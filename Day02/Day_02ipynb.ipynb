{
  "nbformat": 4,
  "nbformat_minor": 0,
  "metadata": {
    "colab": {
      "provenance": [],
      "authorship_tag": "ABX9TyMVT8B7FXvh0b039lFdQWnW",
      "include_colab_link": true
    },
    "kernelspec": {
      "name": "python3",
      "display_name": "Python 3"
    },
    "language_info": {
      "name": "python"
    }
  },
  "cells": [
    {
      "cell_type": "markdown",
      "metadata": {
        "id": "view-in-github",
        "colab_type": "text"
      },
      "source": [
        "<a href=\"https://colab.research.google.com/github/uzmaakhter6/Advent-Of-Code-2024/blob/main/Day_02ipynb.ipynb\" target=\"_parent\"><img src=\"https://colab.research.google.com/assets/colab-badge.svg\" alt=\"Open In Colab\"/></a>"
      ]
    },
    {
      "cell_type": "code",
      "execution_count": null,
      "metadata": {
        "id": "8wAbpChIa5wH"
      },
      "outputs": [],
      "source": []
    },
    {
      "cell_type": "markdown",
      "source": [
        "--- Day 2: Red-Nosed Reports ---\n",
        "Fortunately, the first location The Historians want to search isn't a long walk from the Chief Historian's office.\n",
        "\n",
        "While the Red-Nosed Reindeer nuclear fusion/fission plant appears to contain no sign of the Chief Historian, the engineers there run up to you as soon as they see you. Apparently, they still talk about the time Rudolph was saved through molecular synthesis from a single electron.\n",
        "\n",
        "They're quick to add that - since you're already here - they'd really appreciate your help analyzing some unusual data from the Red-Nosed reactor. You turn to check if The Historians are waiting for you, but they seem to have already divided into groups that are currently searching every corner of the facility. You offer to help with the unusual data.\n",
        "\n",
        "The unusual data (your puzzle input) consists of many reports, one report per line. Each report is a list of numbers called levels that are separated by spaces. For example:\n",
        "\n",
        "7 6 4 2 1\n",
        "1 2 7 8 9\n",
        "9 7 6 2 1\n",
        "1 3 2 4 5\n",
        "8 6 4 4 1\n",
        "1 3 6 7 9\n",
        "This example data contains six reports each containing five levels.\n",
        "\n",
        "The engineers are trying to figure out which reports are safe. The Red-Nosed reactor safety systems can only tolerate levels that are either gradually increasing or gradually decreasing. So, a report only counts as safe if both of the following are true:\n",
        "\n",
        "The levels are either all increasing or all decreasing. Any two adjacent levels differ by at least one and at most three. In the example above, the reports can be found safe or unsafe by checking those rules:\n",
        "\n",
        "7 6 4 2 1: Safe because the levels are all decreasing by 1 or 2.\n",
        "1 2 7 8 9: Unsafe because 2 7 is an increase of 5.\n",
        "9 7 6 2 1: Unsafe because 6 2 is a decrease of 4.\n",
        "1 3 2 4 5: Unsafe because 1 3 is increasing but 3 2 is decreasing.\n",
        "8 6 4 4 1: Unsafe because 4 4 is neither an increase or a decrease.\n",
        "1 3 6 7 9: Safe because the levels are all increasing by 1, 2, or 3.\n",
        "So, in this example, 2 reports are safe.\n",
        "\n",
        "Analyze the unusual data from the engineers. How many reports are safe?\n"
      ],
      "metadata": {
        "id": "NYbqwzXQa7GB"
      }
    },
    {
      "cell_type": "code",
      "source": [
        "# Read input data from the file\n",
        "with open('input.txt', 'r') as file:\n",
        "    i = file.read()\n",
        "\n",
        "# Split the input into individual rows (lines)\n",
        "rows = i.splitlines()\n",
        "\n",
        "# Initialize a counter for safe reports\n",
        "safe_count = 0\n",
        "\n",
        "# Process each row\n",
        "for row in rows:\n",
        "    # Convert the row into a list of integers\n",
        "    levels = list(map(int, row.split()))\n",
        "\n",
        "    # Assume the report is safe initially\n",
        "    is_safe = True\n",
        "\n",
        "    # Check for differences between adjacent numbers\n",
        "    for x, y in zip(levels, levels[1:]):\n",
        "        if abs(y - x) < 1 or abs(y - x) > 3:  # Difference not within the range [1, 3]\n",
        "            is_safe = False\n",
        "            break\n",
        "\n",
        "    # Check if the sequence is strictly increasing or decreasing\n",
        "    if is_safe and not (all(y > x for x, y in zip(levels, levels[1:])) or\n",
        "                        all(y < x for x, y in zip(levels, levels[1:]))):\n",
        "        is_safe = False\n",
        "        # If the report is safe, increment the counter\n",
        "    if is_safe:\n",
        "        safe_count += 1\n",
        "\n",
        "# Print the total number of safe reports\n",
        "print(\"Total safe reports:\", safe_count) #Total safe reports: 639\n",
        ""
      ],
      "metadata": {
        "colab": {
          "base_uri": "https://localhost:8080/"
        },
        "id": "qmfUyvK5br3d",
        "outputId": "bcd75572-e87f-449c-b4c6-d51e51624b44"
      },
      "execution_count": 16,
      "outputs": [
        {
          "output_type": "stream",
          "name": "stdout",
          "text": [
            "Total safe reports: 224\n"
          ]
        }
      ]
    },
    {
      "cell_type": "markdown",
      "source": [
        "--- Part Two ---\n",
        "The engineers are surprised by the low number of safe reports until they realize they forgot to tell you about the Problem Dampener.\n",
        "\n",
        "The Problem Dampener is a reactor-mounted module that lets the reactor safety systems tolerate a single bad level in what would otherwise be a safe report. It's like the bad level never happened!\n",
        "\n",
        "Now, the same rules apply as before, except if removing a single level from an unsafe report would make it safe, the report instead counts as safe.\n",
        "\n",
        "More of the above example's reports are now safe:\n",
        "\n",
        "7 6 4 2 1: Safe without removing any level.\n",
        "1 2 7 8 9: Unsafe regardless of which level is removed.\n",
        "9 7 6 2 1: Unsafe regardless of which level is removed.\n",
        "1 3 2 4 5: Safe by removing the second level, 3.\n",
        "8 6 4 4 1: Safe by removing the third level, 4.\n",
        "1 3 6 7 9: Safe without removing any level.\n",
        "Thanks to the Problem Dampener, 4 reports are actually safe!\n",
        "\n",
        "Update your analysis by handling situations where the Problem Dampener can remove a single level from unsafe reports. How many reports are now safe?"
      ],
      "metadata": {
        "id": "JiNrMdGmwPlq"
      }
    },
    {
      "cell_type": "code",
      "source": [
        "with open('input.txt', 'r') as file:\n",
        "    data = file.readlines()\n",
        "\n",
        "# Initialize the safe report count\n",
        "safe_count = 0\n",
        "\n",
        "# Iterate through each report\n",
        "for line in data:\n",
        "    levels = list(map(int, line.split()))\n",
        "\n",
        "    # Check if the report is safe without removing any level\n",
        "    diffs = [abs(levels[i] - levels[i + 1]) for i in range(len(levels) - 1)]\n",
        "    safe = all(1 <= d <= 3 for d in diffs) and (all(x < y for x, y in zip(levels, levels[1:])) or all(x > y for x, y in zip(levels, levels[1:])))\n",
        "\n",
        "    # If the report is safe, increment the count\n",
        "    if safe:\n",
        "        safe_count += 1\n",
        "    else:\n",
        "        # Check if removing one level makes it safe\n",
        "        found_safe_by_removal = False\n",
        "        for i in range(len(levels)):\n",
        "            new_levels = levels[:i] + levels[i+1:]  # Remove the level at index i\n",
        "            diffs = [abs(new_levels[j] - new_levels[j + 1]) for j in range(len(new_levels) - 1)]\n",
        "            if all(1 <= d <= 3 for d in diffs) and (all(x < y for x, y in zip(new_levels, new_levels[1:])) or all(x > y for x, y in zip(new_levels, new_levels[1:]))):\n",
        "                found_safe_by_removal = True\n",
        "                break\n",
        "\n",
        "        # If removing one level makes it safe, increment the count\n",
        "        if found_safe_by_removal:\n",
        "            safe_count += 1\n",
        "\n",
        "# Print the total number of safe reports\n",
        "print(\"Total safe reports:\", safe_count)\n",
        "\n",
        "\n"
      ],
      "metadata": {
        "colab": {
          "base_uri": "https://localhost:8080/"
        },
        "id": "_12HDIEUwoqs",
        "outputId": "4d923307-cba7-4cb6-b374-f5de328df502"
      },
      "execution_count": 17,
      "outputs": [
        {
          "output_type": "stream",
          "name": "stdout",
          "text": [
            "Total safe reports: 293\n"
          ]
        }
      ]
    }
  ]
}