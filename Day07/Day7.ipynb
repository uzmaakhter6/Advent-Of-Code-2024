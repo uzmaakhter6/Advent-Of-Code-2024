{
  "nbformat": 4,
  "nbformat_minor": 0,
  "metadata": {
    "colab": {
      "provenance": []
    },
    "kernelspec": {
      "name": "python3",
      "display_name": "Python 3"
    },
    "language_info": {
      "name": "python"
    }
  },
  "cells": [
    {
      "cell_type": "markdown",
      "source": [
        "--- Day 7: Bridge Repair ---  \n",
        "The Historians take you to a familiar rope bridge over a river in the middle of a jungle. The Chief isn't on this side of the bridge, though; maybe he's on the other side?\n",
        "\n",
        "When you go to cross the bridge, you notice a group of engineers trying to repair it. (Apparently, it breaks pretty frequently.) You won't be able to cross until it's fixed.\n",
        "\n",
        "You ask how long it'll take; the engineers tell you that it only needs final calibrations, but some young elephants were playing nearby and stole all the operators from their calibration equations! They could finish the calibrations if only someone could determine which test values could possibly be produced by placing any combination of operators into their calibration equations (your puzzle input).\n",
        "\n",
        "For example:\n",
        "```\n",
        "190: 10 19\n",
        "3267: 81 40 27\n",
        "83: 17 5\n",
        "156: 15 6\n",
        "7290: 6 8 6 15\n",
        "161011: 16 10 13\n",
        "192: 17 8 14\n",
        "21037: 9 7 18 13\n",
        "292: 11 6 16 20\n",
        "```\n",
        "Each line represents a single equation. The test value appears before the colon on each line; it is your job to determine whether the remaining numbers can be combined with operators to produce the test value.\n",
        "\n",
        "Operators are always evaluated left-to-right, not according to precedence rules. Furthermore, numbers in the equations cannot be rearranged. Glancing into the jungle, you can see elephants holding two different types of operators: add (+) and multiply (*).\n",
        "\n",
        "Only three of the above equations can be made true by inserting operators:\n",
        "\n",
        "- 190: 10 19 has only one position that accepts an operator: between 10 and 19. Choosing + would give 29, but choosing * would give the test value (10 * 19 = 190).\n",
        "- 3267: 81 40 27 has two positions for operators. Of the four possible configurations of the operators, two cause the right side to match the test value: 81 + 40 * 27 and 81 * 40 + 27 both equal 3267 (when evaluated left-to-right)!\n",
        "- 292: 11 6 16 20 can be solved in exactly one way: 11 + 6 * 16 + 20.  \n",
        "The engineers just need the total calibration result, which is the sum of the test values from just the equations that could possibly be true. In the above example, the sum of the test values for the three equations listed above is 3749.\n",
        "\n",
        "Determine which equations could possibly be true. What is their total calibration result?\n",
        "\n"
      ],
      "metadata": {
        "id": "gXSTMm_28Jo3"
      }
    },
    {
      "cell_type": "code",
      "execution_count": 3,
      "metadata": {
        "colab": {
          "base_uri": "https://localhost:8080/"
        },
        "id": "PLVuGewic2Bj",
        "outputId": "e14946f7-12b1-45af-d648-ba79fd7276e8"
      },
      "outputs": [
        {
          "output_type": "stream",
          "name": "stdout",
          "text": [
            "Total Calibration Result: 932137732557\n"
          ]
        }
      ],
      "source": [
        "from itertools import product\n",
        "\n",
        "def parse_input(file_path):\n",
        "    \"\"\"Parse the input file and return a list of test cases.\"\"\"\n",
        "    equations = []\n",
        "    with open(file_path, 'r') as file:\n",
        "        lines = file.read().strip().splitlines()\n",
        "        for line in lines:\n",
        "            if line.strip() == \"\":\n",
        "                continue\n",
        "            test_value, numbers = line.split(\":\")\n",
        "            test_value = int(test_value.strip())\n",
        "            numbers = list(map(int, numbers.strip().split()))\n",
        "            equations.append((test_value, numbers))\n",
        "    return equations\n",
        "\n",
        "def evaluate_expression(numbers, operators):\n",
        "    \"\"\"Evaluate the expression with the given numbers and operators.\"\"\"\n",
        "    result = numbers[0]\n",
        "    for i, operator in enumerate(operators):\n",
        "        if operator == '+':\n",
        "            result += numbers[i + 1]\n",
        "        elif operator == '*':\n",
        "            result *= numbers[i + 1]\n",
        "    return result\n",
        "\n",
        "def is_solvable(test_value, numbers):\n",
        "    \"\"\"Check if the test value can be achieved by inserting operators.\"\"\"\n",
        "    num_positions = len(numbers) - 1  # Number of operator positions\n",
        "    operator_combinations = product(['+', '*'], repeat=num_positions)\n",
        "\n",
        "    for operators in operator_combinations:\n",
        "        if evaluate_expression(numbers, operators) == test_value:\n",
        "            return True\n",
        "    return False\n",
        "\n",
        "def total_calibration_result(file_path):\n",
        "    \"\"\"Calculate the total calibration result for all solvable equations.\"\"\"\n",
        "    equations = parse_input(file_path)\n",
        "    total = 0\n",
        "\n",
        "    for test_value, numbers in equations:\n",
        "        if is_solvable(test_value, numbers):\n",
        "            total += test_value\n",
        "\n",
        "    return total\n",
        "\n",
        "# Example usage\n",
        "file_path = \"input.txt\"\n",
        "result = total_calibration_result(file_path)\n",
        "print(\"Total Calibration Result:\", result)\n"
      ]
    },
    {
      "cell_type": "markdown",
      "source": [
        "--- Part Two ---\n",
        "The engineers seem concerned; the total calibration result you gave them is nowhere close to being within safety tolerances. Just then, you spot your mistake: some well-hidden elephants are holding a third type of operator.\n",
        "\n",
        "The concatenation operator (||) combines the digits from its left and right inputs into a single number. For example, 12 || 345 would become 12345. All operators are still evaluated left-to-right.\n",
        "\n",
        "Now, apart from the three equations that could be made true using only addition and multiplication, the above example has three more equations that can be made true by inserting operators:\n",
        "\n",
        "- 156: 15 6 can be made true through a single concatenation: 15 || 6 = 156.\n",
        "- 7290: 6 8 6 15 can be made true using 6 * 8 || 6 * 15.\n",
        "- 192: 17 8 14 can be made true using 17 || 8 + 14.  \n",
        "Adding up all six test values (the three that could be made before using only + and * plus the new three that can now be made by also using ||) produces the new total calibration result of 11387.\n",
        "\n",
        "Using your new knowledge of elephant hiding spots, determine which equations could possibly be true. What is their total calibration result?"
      ],
      "metadata": {
        "id": "69x47xzg8rBj"
      }
    },
    {
      "cell_type": "code",
      "source": [
        "from itertools import product\n",
        "\n",
        "def parse_input(file_path):\n",
        "    \"\"\"Parse the input file and return a list of test cases.\"\"\"\n",
        "    equations = []\n",
        "    with open(file_path, 'r') as file:\n",
        "        lines = file.read().strip().splitlines()\n",
        "        for line in lines:\n",
        "            if line.strip() == \"\":\n",
        "                continue\n",
        "            test_value, numbers = line.split(\":\")\n",
        "            test_value = int(test_value.strip())\n",
        "            numbers = list(map(int, numbers.strip().split()))\n",
        "            equations.append((test_value, numbers))\n",
        "    return equations\n",
        "\n",
        "def concatenate(a, b):\n",
        "    \"\"\"Concatenate two numbers as per the || operator.\"\"\"\n",
        "    return int(str(a) + str(b))\n",
        "\n",
        "def evaluate_expression(numbers, operators):\n",
        "    \"\"\"Evaluate the expression with the given numbers and operators.\"\"\"\n",
        "    result = numbers[0]\n",
        "    for i, operator in enumerate(operators):\n",
        "        if operator == '+':\n",
        "            result += numbers[i + 1]\n",
        "        elif operator == '*':\n",
        "            result *= numbers[i + 1]\n",
        "        elif operator == '||':\n",
        "            result = concatenate(result, numbers[i + 1])\n",
        "    return result\n",
        "\n",
        "def is_solvable(test_value, numbers):\n",
        "    \"\"\"Check if the test value can be achieved by inserting operators.\"\"\"\n",
        "    num_positions = len(numbers) - 1  # Number of operator positions\n",
        "    operator_combinations = product(['+', '*', '||'], repeat=num_positions)\n",
        "\n",
        "    for operators in operator_combinations:\n",
        "        if evaluate_expression(numbers, operators) == test_value:\n",
        "            return True\n",
        "    return False\n",
        "\n",
        "def total_calibration_result(file_path):\n",
        "    \"\"\"Calculate the total calibration result for all solvable equations.\"\"\"\n",
        "    equations = parse_input(file_path)\n",
        "    total = 0\n",
        "\n",
        "    for test_value, numbers in equations:\n",
        "        if is_solvable(test_value, numbers):\n",
        "            total += test_value\n",
        "\n",
        "    return total\n",
        "\n",
        "# Example usage\n",
        "file_path = \"input.txt\"\n",
        "result = total_calibration_result(file_path)\n",
        "print(\"Total Calibration Result:\", result)\n"
      ],
      "metadata": {
        "colab": {
          "base_uri": "https://localhost:8080/"
        },
        "id": "cse3MfawdJDq",
        "outputId": "c425a93f-f13a-4793-8b2a-978708e601f1"
      },
      "execution_count": 5,
      "outputs": [
        {
          "output_type": "stream",
          "name": "stdout",
          "text": [
            "Total Calibration Result: 661823605105500\n"
          ]
        }
      ]
    }
  ]
}