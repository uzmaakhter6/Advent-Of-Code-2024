{
  "nbformat": 4,
  "nbformat_minor": 0,
  "metadata": {
    "colab": {
      "provenance": []
    },
    "kernelspec": {
      "name": "python3",
      "display_name": "Python 3"
    },
    "language_info": {
      "name": "python"
    }
  },
  "cells": [
    {
      "cell_type": "markdown",
      "source": [
        "--- Day 4: Ceres Search ---  \n",
        "\"Looks like the Chief's not here. Next!\" One of The Historians pulls out a device and pushes the only button on it. After a brief flash, you recognize the interior of the Ceres monitoring station!\n",
        "\n",
        "As the search for the Chief continues, a small Elf who lives on the station tugs on your shirt; she'd like to know if you could help her with her word search (your puzzle input). She only has to find one word: XMAS.\n",
        "\n",
        "This word search allows words to be horizontal, vertical, diagonal, written backwards, or even overlapping other words. It's a little unusual, though, as you don't merely need to find one instance of XMAS - you need to find all of them. Here are a few ways XMAS might appear, where irrelevant characters have been replaced with .:\n",
        "\n",
        "\n",
        "..X...  \n",
        ".SAMX.  \n",
        ".A..A.  \n",
        "XMAS.S  \n",
        ".X....  \n",
        "The actual word search will be full of letters instead. For example:\n",
        "\n",
        "MMMSXXMASM  \n",
        "MSAMXMSMSA  \n",
        "AMXSXMAAMM  \n",
        "MSAMASMSMX  \n",
        "XMASAMXAMM  \n",
        "XXAMMXXAMA  \n",
        "SMSMSASXSS  \n",
        "SAXAMASAAA  \n",
        "MAMMMXMMMM  \n",
        "MXMXAXMASX  \n",
        "In this word search, XMAS occurs a total of 18 times; here's the same word search again, but where letters not involved in any XMAS have been replaced with .:\n",
        "\n",
        "....XXMAS.  \n",
        ".SAMXMS...  \n",
        "...S..A...  \n",
        "..A.A.MS.X  \n",
        "XMASAMX.MM  \n",
        "X.....XA.A  \n",
        "S.S.S.S.SS  \n",
        ".A.A.A.A.A  \n",
        "..M.M.M.MM  \n",
        ".X.X.XMASX  \n",
        "Take a look at the little Elf's word search. How many times does XMAS appear?"
      ],
      "metadata": {
        "id": "pFAA48V5BtoO"
      }
    },
    {
      "cell_type": "code",
      "source": [
        "def count_xmas_occurrences(grid, word=\"XMAS\"):\n",
        "    rows, cols = len(grid), len(grid[0])\n",
        "    word_len = len(word)\n",
        "    directions = [\n",
        "        (0, 1),   # Right\n",
        "        (0, -1),  # Left\n",
        "        (1, 0),   # Down\n",
        "        (-1, 0),  # Up\n",
        "        (1, 1),   # Down-Right\n",
        "        (-1, -1), # Up-Left\n",
        "        (1, -1),  # Down-Left\n",
        "        (-1, 1)   # Up-Right\n",
        "    ]\n",
        "    count = 0\n",
        "\n",
        "    # Function to check if a word exists in a specific direction\n",
        "    def search_direction(r, c, dr, dc):\n",
        "        for i in range(word_len):\n",
        "            nr, nc = r + i * dr, c + i * dc\n",
        "            if nr < 0 or nr >= rows or nc < 0 or nc >= cols or grid[nr][nc] != word[i]:\n",
        "                return False\n",
        "        return True\n",
        "\n",
        "    # Traverse each cell in the grid\n",
        "    for r in range(rows):\n",
        "        for c in range(cols):\n",
        "            # Check all directions from the current cell\n",
        "            for dr, dc in directions:\n",
        "                if search_direction(r, c, dr, dc):\n",
        "                    count += 1\n",
        "\n",
        "    return count\n",
        "\n",
        "\n",
        "# Read the input grid from a file\n",
        "with open('input.txt', 'r') as file:\n",
        "    grid = [line.strip() for line in file.readlines()]\n",
        "\n",
        "# Find and print the number of occurrences of \"XMAS\"\n",
        "result = count_xmas_occurrences(grid)\n",
        "print(result)\n"
      ],
      "metadata": {
        "colab": {
          "base_uri": "https://localhost:8080/"
        },
        "id": "A1CHdYFEOzma",
        "outputId": "17fa75a2-1163-423f-8eb3-487251e8f47a"
      },
      "execution_count": null,
      "outputs": [
        {
          "output_type": "stream",
          "name": "stdout",
          "text": [
            "2547\n"
          ]
        }
      ]
    },
    {
      "cell_type": "markdown",
      "source": [
        "--- Part Two ---  \n",
        "The Elf looks quizzically at you. Did you misunderstand the assignment?\n",
        "\n",
        "Looking for the instructions, you flip over the word search to find that this isn't actually an XMAS puzzle; it's an X-MAS puzzle in which you're supposed to find two MAS in the shape of an X. One way to achieve that is like this:\n",
        "\n",
        "M.S  \n",
        ".A.  \n",
        "M.S  \n",
        "Irrelevant characters have again been replaced with . in the above diagram. Within the X, each MAS can be written forwards or backwards.\n",
        "\n",
        "Here's the same example from before, but this time all of the X-MASes have been kept instead:\n",
        "\n",
        ".M.S......  \n",
        "..A..MSMS.  \n",
        ".M.S.MAA..  \n",
        "..A.ASMSM.  \n",
        ".M.S.M....  \n",
        "..........  \n",
        "S.S.S.S.S.  \n",
        ".A.A.A.A..  \n",
        "M.M.M.M.M.  \n",
        "..........  \n",
        "In this example, an X-MAS appears 9 times.\n",
        "\n",
        "Flip the word search from the instructions back over to the word search side and try again. How many times does an X-MAS appear?"
      ],
      "metadata": {
        "id": "tCBd1cTlB6DP"
      }
    },
    {
      "cell_type": "code",
      "source": [
        "def count_x_mas_patterns(grid):\n",
        "    rows, cols = len(grid), len(grid[0])\n",
        "    count = 0\n",
        "\n",
        "    # Helper function to check if a diagonal matches MAS\n",
        "    def check_diagonal(r, c, dr1, dc1, dr2, dc2):\n",
        "        try:\n",
        "            # Check one MAS diagonal (M-S) and the reverse (S-M)\n",
        "            if (grid[r + dr1][c + dc1] == 'M' and\n",
        "                grid[r][c] == 'A' and\n",
        "                grid[r + dr2][c + dc2] == 'S'):\n",
        "                return True\n",
        "            if (grid[r + dr1][c + dc1] == 'S' and\n",
        "                grid[r][c] == 'A' and\n",
        "                grid[r + dr2][c + dc2] == 'M'):\n",
        "                return True\n",
        "        except IndexError:\n",
        "            pass\n",
        "        return False\n",
        "\n",
        "    # Traverse the grid to find the center of the X\n",
        "    for r in range(1, rows - 1):\n",
        "        for c in range(1, cols - 1):\n",
        "            # Check for the center 'A'\n",
        "            if grid[r][c] == 'A':\n",
        "                # Check for the top-left and bottom-right MAS\n",
        "                if (check_diagonal(r, c, -1, -1, 1, 1) and\n",
        "                    check_diagonal(r, c, -1, 1, 1, -1)):\n",
        "                    count += 1\n",
        "\n",
        "    return count\n",
        "\n",
        "\n",
        "# Read the input grid from a file\n",
        "with open('input.txt', 'r') as file:\n",
        "    grid = [line.strip() for line in file.readlines()]\n",
        "\n",
        "# Find and print the number of X-MAS patterns\n",
        "result = count_x_mas_patterns(grid)\n",
        "print(result)\n"
      ],
      "metadata": {
        "colab": {
          "base_uri": "https://localhost:8080/"
        },
        "id": "hcgZaRk0PEGG",
        "outputId": "3bdd6b33-b0ae-4f04-aea9-37f8ba755e24"
      },
      "execution_count": null,
      "outputs": [
        {
          "output_type": "stream",
          "name": "stdout",
          "text": [
            "1939\n"
          ]
        }
      ]
    }
  ]
}