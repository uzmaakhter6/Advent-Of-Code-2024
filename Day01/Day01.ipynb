{
  "cells": [
    {
      "cell_type": "markdown",
      "metadata": {
        "id": "D1r7TeRbldEu"
      },
      "source": [
        "--- Day 1: Historian Hysteria ---\n",
        "The Chief Historian is always present for the big Christmas sleigh launch, but nobody has seen him in months! Last anyone heard, he was visiting locations that are historically significant to the North Pole; a group of Senior Historians has asked you to accompany them as they check the places they think he was most likely to visit.\n",
        "\n",
        "As each location is checked, they will mark it on their list with a star. They figure the Chief Historian must be in one of the first fifty places they'll look, so in order to save Christmas, you need to help them get fifty stars on their list before Santa takes off on December 25th.\n",
        "\n",
        "Collect stars by solving puzzles. Two puzzles will be made available on each day in the Advent calendar; the second puzzle is unlocked when you complete the first. Each puzzle grants one star. Good luck!\n",
        "\n",
        "You haven't even left yet and the group of Elvish Senior Historians has already hit a problem: their list of locations to check is currently empty. Eventually, someone decides that the best place to check first would be the Chief Historian's office.\n",
        "\n",
        "Upon pouring into the office, everyone confirms that the Chief Historian is indeed nowhere to be found. Instead, the Elves discover an assortment of notes and lists of historically significant locations! This seems to be the planning the Chief Historian was doing before he left. Perhaps these notes can be used to determine which locations to search?\n",
        "\n",
        "Throughout the Chief's office, the historically significant locations are listed not by name but by a unique number called the location ID. To make sure they don't miss anything, The Historians split into two groups, each searching the office and trying to create their own complete list of location IDs.\n",
        "\n",
        "There's just one problem: by holding the two lists up side by side (your puzzle input), it quickly becomes clear that the lists aren't very similar. Maybe you can help The Historians reconcile their lists?\n",
        "\n",
        "For example:\n",
        "3 4\n",
        "4 3\n",
        "2 5\n",
        "1 3\n",
        "3 9\n",
        "3 3\n",
        "Maybe the lists are only off by a small amount! To find out, pair up the numbers and measure how far apart they are. Pair up the smallest number in the left list with the smallest number in the right list, then the second-smallest left number with the second-smallest right number, and so on.\n",
        "\n",
        "Within each pair, figure out how far apart the two numbers are; you'll need to add up all of those distances. For example, if you pair up a 3 from the left list with a 7 from the right list, the distance apart is 4; if you pair up a 9 with a 3, the distance apart is 6.\n",
        "\n",
        "In the example list above, the pairs and distances would be as follows:\n",
        "\n",
        "The smallest number in the left list is 1, and the smallest number in the right list is 3. The distance between them is 2. The second-smallest number in the left list is 2, and the second-smallest number in the right list is another 3. The distance between them is 1. The third-smallest number in both lists is 3, so the distance between them is 0. The next numbers to pair up are 3 and 4, a distance of 1. The fifth-smallest numbers in each list are 3 and 5, a distance of 2. Finally, the largest number in the left list is 4, while the largest number in the right list is 9; these are a distance 5 apart. To find the total distance between the left list and the right list, add up the distances between all of the pairs you found. In the example above, this is 2 + 1 + 0 + 1 + 2 + 5, a total distance of 11!\n",
        "\n",
        "Your actual left and right lists contain many location IDs. What is the total distance between your lists?"
      ]
    },
    {
      "cell_type": "code",
      "execution_count": 1,
      "metadata": {
        "colab": {
          "base_uri": "https://localhost:8080/"
        },
        "id": "RE1K5XYamDdS",
        "outputId": "308b8316-88ea-4fa7-9246-a24673d4ae20"
      },
      "outputs": [
        {
          "name": "stdout",
          "output_type": "stream",
          "text": [
            "2742123\n"
          ]
        }
      ],
      "source": [
        "with open('input.txt', 'r') as file:\n",
        "    i = file.read()\n",
        "# Split the input string into a flat list of numbers (as strings)\n",
        "p = i.split()\n",
        "\n",
        "# Initialize two empty lists to store numbers from even and odd indices\n",
        "left = []\n",
        "right = []\n",
        "\n",
        "# Enumerate through the list `p` to access both index and value\n",
        "for i, j in enumerate(p):\n",
        "    if i % 2 == 0:  # Check if the index is even\n",
        "        left.append(int(j))  # Add the number to the 'left' list (convert to int)\n",
        "    else:  # Index is odd\n",
        "        right.append(int(j))  # Add the number to the 'right' list (convert to int)\n",
        "\n",
        "# Sort both lists in ascending order\n",
        "left.sort()\n",
        "right.sort()\n",
        "\n",
        "# Initialize a variable to store the total difference\n",
        "ans = 0\n",
        "\n",
        "# Iterate through the sorted 'left' and 'right' lists simultaneously\n",
        "for x, y in zip(left, right):\n",
        "    ans = ans + abs(y - x)  # Add the absolute difference between corresponding elements\n",
        "\n",
        "# Print the result\n",
        "print(ans) # Expected result :2742123."
      ]
    },
    {
      "cell_type": "markdown",
      "metadata": {
        "id": "n4xugjxfntn-"
      },
      "source": [
        "--- Part Two ---\n",
        "Your analysis only confirmed what everyone feared: the two lists of location IDs are indeed very different.\n",
        "\n",
        "Or are they?\n",
        "\n",
        "The Historians can't agree on which group made the mistakes or how to read most of the Chief's handwriting, but in the commotion you notice an interesting detail: a lot of location IDs appear in both lists! Maybe the other numbers aren't location IDs at all but rather misinterpreted handwriting.\n",
        "\n",
        "This time, you'll need to figure out exactly how often each number from the left list appears in the right list. Calculate a total similarity score by adding up each number in the left list after multiplying it by the number of times that number appears in the right list.\n",
        "\n",
        "Here are the same example lists again:\n",
        "\n",
        "3   4\n",
        "4   3\n",
        "2   5\n",
        "1   3\n",
        "3   9\n",
        "3   3\n",
        "For these example lists, here is the process of finding the similarity score:\n",
        "\n",
        "The first number in the left list is 3. It appears in the right list three times, so the similarity score increases by 3 * 3 = 9.\n",
        "The second number in the left list is 4. It appears in the right list once, so the similarity score increases by 4 * 1 = 4.\n",
        "The third number in the left list is 2. It does not appear in the right list, so the similarity score does not increase (2 * 0 = 0).\n",
        "The fourth number, 1, also does not appear in the right list.\n",
        "The fifth number, 3, appears in the right list three times; the similarity score increases by 9.\n",
        "The last number, 3, appears in the right list three times; the similarity score again increases by 9.\n",
        "So, for these example lists, the similarity score at the end of this process is 31 (9 + 4 + 0 + 0 + 9 + 9).\n",
        "\n",
        "Once again consider your left and right lists. What is their similarity score?\n",
        "\n",
        "Your puzzle answer was 21328497.\n",
        "\n",
        "Both parts of this puzzle are complete! They provide two gold stars: **\n",
        "\n",
        "At this point, you should return to your Advent calendar and try another puzzle."
      ]
    },
    {
      "cell_type": "code",
      "execution_count": 2,
      "metadata": {
        "colab": {
          "base_uri": "https://localhost:8080/"
        },
        "id": "imoSwyKon3wk",
        "outputId": "caec26a4-d9a9-4133-8c6d-24684ee60fa4"
      },
      "outputs": [
        {
          "name": "stdout",
          "output_type": "stream",
          "text": [
            "21328497\n"
          ]
        }
      ],
      "source": [
        "with open('input.txt', 'r') as file:\n",
        "    i = file.read()\n",
        "# Split the input string into a flat list of numbers (as strings)\n",
        "p = i.split()\n",
        "\n",
        "# Initialize two empty lists to store numbers from even and odd indices\n",
        "left = []\n",
        "right = []\n",
        "\n",
        "# Enumerate through the list `p` to access both index and value\n",
        "for i, j in enumerate(p):\n",
        "    if i % 2 == 0:  # Check if the index is even\n",
        "        left.append(int(j))  # Add the number to the 'left' list (convert to int)\n",
        "    else:  # Index is odd\n",
        "        right.append(int(j))  # Add the number to the 'right' list (convert to int)\n",
        "\n",
        "# Initialize a variable to store the result\n",
        "ans = 0\n",
        "\n",
        "# Iterate through each element in the 'left' list\n",
        "for x in left:\n",
        "    # Count the occurrences of the current element `x` in the 'right' list\n",
        "    y = right.count(x)\n",
        "\n",
        "    # Add the product of the element and its count in the 'right' list to the result\n",
        "    ans = ans + (x * y)\n",
        "\n",
        "# Print the final result\n",
        "print(ans)  # Expected result: 19437052\n",
        "\n",
        "\n"
      ]
    }
  ],
  "metadata": {
    "colab": {
      "provenance": []
    },
    "kernelspec": {
      "display_name": "Python 3",
      "name": "python3"
    },
    "language_info": {
      "codemirror_mode": {
        "name": "ipython",
        "version": 3
      },
      "file_extension": ".py",
      "mimetype": "text/x-python",
      "name": "python",
      "nbconvert_exporter": "python",
      "pygments_lexer": "ipython3",
      "version": "3.13.0"
    }
  },
  "nbformat": 4,
  "nbformat_minor": 0
}
