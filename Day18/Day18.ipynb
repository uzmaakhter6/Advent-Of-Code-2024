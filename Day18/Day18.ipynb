{
  "nbformat": 4,
  "nbformat_minor": 0,
  "metadata": {
    "colab": {
      "provenance": []
    },
    "kernelspec": {
      "name": "python3",
      "display_name": "Python 3"
    },
    "language_info": {
      "name": "python"
    }
  },
  "cells": [
    {
      "cell_type": "markdown",
      "source": [
        "```\n",
        "--- Day 18: RAM Run ---\n",
        "You and The Historians look a lot more pixelated than you remember. You're inside a computer at the North Pole!\n",
        "\n",
        "Just as you're about to check out your surroundings, a program runs up to you. \"This region of memory isn't safe! The User misunderstood what a pushdown automaton is and their algorithm is pushing whole bytes down on top of us! Run!\"\n",
        "\n",
        "The algorithm is fast - it's going to cause a byte to fall into your memory space once every nanosecond! Fortunately, you're faster, and by quickly scanning the algorithm, you create a list of which bytes will fall (your puzzle input) in the order they'll land in your memory space.\n",
        "\n",
        "Your memory space is a two-dimensional grid with coordinates that range from 0 to 70 both horizontally and vertically. However, for the sake of example, suppose you're on a smaller grid with coordinates that range from 0 to 6 and the following list of incoming byte positions:\n",
        "\n",
        "5,4\n",
        "4,2\n",
        "4,5\n",
        "3,0\n",
        "2,1\n",
        "6,3\n",
        "2,4\n",
        "1,5\n",
        "0,6\n",
        "3,3\n",
        "2,6\n",
        "5,1\n",
        "1,2\n",
        "5,5\n",
        "2,5\n",
        "6,5\n",
        "1,4\n",
        "0,4\n",
        "6,4\n",
        "1,1\n",
        "6,1\n",
        "1,0\n",
        "0,5\n",
        "1,6\n",
        "2,0\n",
        "Each byte position is given as an X,Y coordinate, where X is the distance from the left edge of your memory space and Y is the distance from the top edge of your memory space.\n",
        "\n",
        "You and The Historians are currently in the top left corner of the memory space (at 0,0) and need to reach the exit in the bottom right corner (at 70,70 in your memory space, but at 6,6 in this example). You'll need to simulate the falling bytes to plan out where it will be safe to run; for now, simulate just the first few bytes falling into your memory space.\n",
        "\n",
        "As bytes fall into your memory space, they make that coordinate corrupted. Corrupted memory coordinates cannot be entered by you or The Historians, so you'll need to plan your route carefully. You also cannot leave the boundaries of the memory space; your only hope is to reach the exit.\n",
        "\n",
        "In the above example, if you were to draw the memory space after the first 12 bytes have fallen (using . for safe and # for corrupted), it would look like this:\n",
        "\n",
        "...#...\n",
        "..#..#.\n",
        "....#..\n",
        "...#..#\n",
        "..#..#.\n",
        ".#..#..\n",
        "#.#....\n",
        "You can take steps up, down, left, or right. After just 12 bytes have corrupted locations in your memory space, the shortest path from the top left corner to the exit would take 22 steps. Here (marked with O) is one such path:\n",
        "\n",
        "OO.#OOO\n",
        ".O#OO#O\n",
        ".OOO#OO\n",
        "...#OO#\n",
        "..#OO#.\n",
        ".#.O#..\n",
        "#.#OOOO\n",
        "Simulate the first kilobyte (1024 bytes) falling onto your memory space. Afterward, what is the minimum number of steps needed to reach the exit?\n",
        "```"
      ],
      "metadata": {
        "id": "IwKQ4wXBKiTP"
      }
    },
    {
      "cell_type": "code",
      "execution_count": 4,
      "metadata": {
        "colab": {
          "base_uri": "https://localhost:8080/"
        },
        "id": "0_h9v1OnILUs",
        "outputId": "8ab09d72-d469-4b68-a917-3ba57eba3ddf"
      },
      "outputs": [
        {
          "output_type": "stream",
          "name": "stdout",
          "text": [
            "Minimum number of steps: 404\n"
          ]
        }
      ],
      "source": [
        "from collections import deque\n",
        "\n",
        "def read_input(file_path):\n",
        "    with open(file_path, \"r\") as file:\n",
        "        return [tuple(map(int, line.strip().split(','))) for line in file]\n",
        "\n",
        "def simulate_corruption(grid, corrupted_positions):\n",
        "    for x, y in corrupted_positions:\n",
        "        grid[y][x] = \"#\"\n",
        "\n",
        "def bfs_shortest_path(grid, start, goal):\n",
        "    directions = [(-1, 0), (1, 0), (0, -1), (0, 1)]  # Up, Down, Left, Right\n",
        "    queue = deque([(start[0], start[1], 0)])  # (x, y, steps)\n",
        "    visited = set()\n",
        "    visited.add(start)\n",
        "\n",
        "    while queue:\n",
        "        x, y, steps = queue.popleft()\n",
        "\n",
        "        if (x, y) == goal:\n",
        "            return steps\n",
        "\n",
        "        for dx, dy in directions:\n",
        "            nx, ny = x + dx, y + dy\n",
        "            if 0 <= nx < 71 and 0 <= ny < 71 and (nx, ny) not in visited and grid[ny][nx] == \".\":\n",
        "                visited.add((nx, ny))\n",
        "                queue.append((nx, ny, steps + 1))\n",
        "    return -1  # If no path exists\n",
        "\n",
        "def main():\n",
        "    # Initialize the grid\n",
        "    grid_size = 71\n",
        "    grid = [[\".\"] * grid_size for _ in range(grid_size)]\n",
        "\n",
        "    # Read input and simulate falling bytes\n",
        "    corrupted_positions = read_input(\"input.txt\")[:1024]\n",
        "    simulate_corruption(grid, corrupted_positions)\n",
        "\n",
        "    # Find shortest path\n",
        "    start = (0, 0)\n",
        "    goal = (70, 70)\n",
        "    result = bfs_shortest_path(grid, start, goal)\n",
        "\n",
        "    print(\"Minimum number of steps:\", result)\n",
        "\n",
        "if __name__ == \"__main__\":\n",
        "    main()\n"
      ]
    },
    {
      "cell_type": "markdown",
      "source": [
        "```\n",
        "--- Part Two ---\n",
        "The Historians aren't as used to moving around in this pixelated universe as you are. You're afraid they're not going to be fast enough to make it to the exit before the path is completely blocked.\n",
        "\n",
        "To determine how fast everyone needs to go, you need to determine the first byte that will cut off the path to the exit.\n",
        "\n",
        "In the above example, after the byte at 1,1 falls, there is still a path to the exit:\n",
        "\n",
        "O..#OOO\n",
        "O##OO#O\n",
        "O#OO#OO\n",
        "OOO#OO#\n",
        "###OO##\n",
        ".##O###\n",
        "#.#OOOO\n",
        "However, after adding the very next byte (at 6,1), there is no longer a path to the exit:\n",
        "\n",
        "...#...\n",
        ".##..##\n",
        ".#..#..\n",
        "...#..#\n",
        "###..##\n",
        ".##.###\n",
        "#.#....\n",
        "So, in this example, the coordinates of the first byte that prevents the exit from being reachable are 6,1.\n",
        "\n",
        "Simulate more of the bytes that are about to corrupt your memory space. What are the coordinates of the first byte that will prevent the exit from being reachable from your starting position? (Provide the answer as two integers separated by a comma with no other characters.)\n",
        "```"
      ],
      "metadata": {
        "id": "tIlcjSKiKpp8"
      }
    },
    {
      "cell_type": "code",
      "source": [
        "import heapq\n",
        "\n",
        "def find_first_blocking_byte(input_file):\n",
        "    # Read coordinates of falling bytes\n",
        "    with open(input_file, 'r') as f:\n",
        "        coordinates = [tuple(map(int, line.strip().split(','))) for line in f]\n",
        "\n",
        "    # Define grid size and movement directions\n",
        "    GRID_SIZE = 70\n",
        "    DIRECTIONS = [(0, 1), (0, -1), (1, 0), (-1, 0)]\n",
        "\n",
        "    # Check if a path exists from start to goal\n",
        "    def is_path_exists(corrupted):\n",
        "        start = (0, 0)\n",
        "        goal = (GRID_SIZE, GRID_SIZE)\n",
        "\n",
        "        visited = set()\n",
        "        queue = [start]\n",
        "        visited.add(start)\n",
        "\n",
        "        while queue:\n",
        "            current = queue.pop(0)\n",
        "\n",
        "            if current == goal:\n",
        "                return True\n",
        "\n",
        "            for dx, dy in DIRECTIONS:\n",
        "                neighbor = (current[0] + dx, current[1] + dy)\n",
        "\n",
        "                # Check if neighbor is valid (within grid and not corrupted)\n",
        "                if (0 <= neighbor[0] <= GRID_SIZE and\n",
        "                    0 <= neighbor[1] <= GRID_SIZE and\n",
        "                    neighbor not in corrupted and\n",
        "                    neighbor not in visited):\n",
        "                    queue.append(neighbor)\n",
        "                    visited.add(neighbor)\n",
        "\n",
        "        return False\n",
        "\n",
        "    # Track corrupted spaces and find first blocking byte\n",
        "    corrupted = set()\n",
        "    for i, coord in enumerate(coordinates):\n",
        "        corrupted.add(coord)\n",
        "\n",
        "        # Check if this coordinate blocks the path\n",
        "        if not is_path_exists(corrupted):\n",
        "            return coord\n",
        "\n",
        "    return None  # No blocking byte found\n",
        "\n",
        "# Read input from file and solve\n",
        "result = find_first_blocking_byte('input.txt')\n",
        "print(f\"First blocking byte coordinates: {result[0]},{result[1]}\")"
      ],
      "metadata": {
        "colab": {
          "base_uri": "https://localhost:8080/"
        },
        "id": "MM5XJDoMJHpN",
        "outputId": "6a2efb2f-9d82-4b3e-a7dc-887f157b99e0"
      },
      "execution_count": 5,
      "outputs": [
        {
          "output_type": "stream",
          "name": "stdout",
          "text": [
            "First blocking byte coordinates: 27,60\n"
          ]
        }
      ]
    }
  ]
}