{
  "nbformat": 4,
  "nbformat_minor": 0,
  "metadata": {
    "colab": {
      "provenance": []
    },
    "kernelspec": {
      "name": "python3",
      "display_name": "Python 3"
    },
    "language_info": {
      "name": "python"
    }
  },
  "cells": [
    {
      "cell_type": "markdown",
      "source": [
        "```\n",
        "--- Day 9: Disk Fragmenter ---\n",
        "Another push of the button leaves you in the familiar hallways of some friendly amphipods! Good thing you each somehow got your own personal mini submarine. The Historians jet away in search of the Chief, mostly by driving directly into walls.\n",
        "\n",
        "While The Historians quickly figure out how to pilot these things, you notice an amphipod in the corner struggling with his computer. He's trying to make more contiguous free space by compacting all of the files, but his program isn't working; you offer to help.\n",
        "\n",
        "He shows you the disk map (your puzzle input) he's already generated. For example:\n",
        "\n",
        "2333133121414131402\n",
        "The disk map uses a dense format to represent the layout of files and free space on the disk. The digits alternate between indicating the length of a file and the length of free space.\n",
        "\n",
        "So, a disk map like 12345 would represent a one-block file, two blocks of free space, a three-block file, four blocks of free space, and then a five-block file. A disk map like 90909 would represent three nine-block files in a row (with no free space between them).\n",
        "\n",
        "Each file on disk also has an ID number based on the order of the files as they appear before they are rearranged, starting with ID 0. So, the disk map 12345 has three files: a one-block file with ID 0, a three-block file with ID 1, and a five-block file with ID 2. Using one character for each block where digits are the file ID and . is free space, the disk map 12345 represents these individual blocks:\n",
        "\n",
        "0..111....22222\n",
        "The first example above, 2333133121414131402, represents these individual blocks:\n",
        "\n",
        "00...111...2...333.44.5555.6666.777.888899\n",
        "The amphipod would like to move file blocks one at a time from the end of the disk to the leftmost free space block (until there are no gaps remaining between file blocks). For the disk map 12345, the process looks like this:\n",
        "\n",
        "0..111....22222\n",
        "02.111....2222.\n",
        "022111....222..\n",
        "0221112...22...\n",
        "02211122..2....\n",
        "022111222......\n",
        "The first example requires a few more steps:\n",
        "\n",
        "00...111...2...333.44.5555.6666.777.888899\n",
        "009..111...2...333.44.5555.6666.777.88889.\n",
        "0099.111...2...333.44.5555.6666.777.8888..\n",
        "00998111...2...333.44.5555.6666.777.888...\n",
        "009981118..2...333.44.5555.6666.777.88....\n",
        "0099811188.2...333.44.5555.6666.777.8.....\n",
        "009981118882...333.44.5555.6666.777.......\n",
        "0099811188827..333.44.5555.6666.77........\n",
        "00998111888277.333.44.5555.6666.7.........\n",
        "009981118882777333.44.5555.6666...........\n",
        "009981118882777333644.5555.666............\n",
        "00998111888277733364465555.66.............\n",
        "0099811188827773336446555566..............\n",
        "The final step of this file-compacting process is to update the filesystem checksum. To calculate the checksum, add up the result of multiplying each of these blocks' position with the file ID number it contains. The leftmost block is in position 0. If a block contains free space, skip it instead.\n",
        "\n",
        "Continuing the first example, the first few blocks' position multiplied by its file ID number are 0 * 0 = 0, 1 * 0 = 0, 2 * 9 = 18, 3 * 9 = 27, 4 * 8 = 32, and so on. In this example, the checksum is the sum of these, 1928.\n",
        "\n",
        "Compact the amphipod's hard drive using the process he requested. What is the resulting filesystem checksum? (Be careful copy/pasting the input for this puzzle; it is a single, very long line.)\n",
        "```"
      ],
      "metadata": {
        "id": "ShCuLeYRE2ny"
      }
    },
    {
      "cell_type": "code",
      "execution_count": 4,
      "metadata": {
        "colab": {
          "base_uri": "https://localhost:8080/"
        },
        "id": "939XuSlLw8T6",
        "outputId": "e7a3efd0-0c08-4abd-f26d-cbd39675bcb2"
      },
      "outputs": [
        {
          "output_type": "stream",
          "name": "stdout",
          "text": [
            "6200294120911\n"
          ]
        }
      ],
      "source": [
        "filename = \"input.txt\"\n",
        "\n",
        "data = open(filename).read().strip().split(\"\\n\")\n",
        "\n",
        "sequence = data[0]\n",
        "configurations = []\n",
        "arrangement = []\n",
        "current_file = 0\n",
        "for index, character in enumerate(sequence):\n",
        "    block_length = int(character)\n",
        "    if index % 2 == 0:\n",
        "        arrangement.extend([str(current_file)] * block_length)\n",
        "        current_file += 1\n",
        "    else:\n",
        "        arrangement.extend([\".\"] * block_length)\n",
        "\n",
        "while True:\n",
        "    try:\n",
        "        empty_position = arrangement.index(\".\")\n",
        "    except ValueError:\n",
        "        break\n",
        "\n",
        "    right_side_empty = any(ch != \".\" for ch in arrangement[empty_position + 1 :])\n",
        "    if not right_side_empty:\n",
        "        break\n",
        "\n",
        "    for reverse_index in range(len(arrangement) - 1, -1, -1):\n",
        "        if arrangement[reverse_index] != \".\":\n",
        "            arrangement[empty_position], arrangement[reverse_index] = arrangement[reverse_index], \".\"\n",
        "            break\n",
        "\n",
        "total_score = 0\n",
        "for index, file_marker in enumerate(arrangement):\n",
        "    if file_marker != \".\":\n",
        "        total_score += index * int(file_marker)\n",
        "\n",
        "print(total_score)"
      ]
    },
    {
      "cell_type": "markdown",
      "source": [
        "```\n",
        "--- Part Two ---\n",
        "Upon completion, two things immediately become clear. First, the disk definitely has a lot more contiguous free space, just like the amphipod hoped. Second, the computer is running much more slowly! Maybe introducing all of that file system fragmentation was a bad idea?\n",
        "\n",
        "The eager amphipod already has a new plan: rather than move individual blocks, he'd like to try compacting the files on his disk by moving whole files instead.\n",
        "\n",
        "This time, attempt to move whole files to the leftmost span of free space blocks that could fit the file. Attempt to move each file exactly once in order of decreasing file ID number starting with the file with the highest file ID number. If there is no span of free space to the left of a file that is large enough to fit the file, the file does not move.\n",
        "\n",
        "The first example from above now proceeds differently:\n",
        "\n",
        "00...111...2...333.44.5555.6666.777.888899\n",
        "0099.111...2...333.44.5555.6666.777.8888..\n",
        "0099.1117772...333.44.5555.6666.....8888..\n",
        "0099.111777244.333....5555.6666.....8888..\n",
        "00992111777.44.333....5555.6666.....8888..\n",
        "The process of updating the filesystem checksum is the same; now, this example's checksum would be 2858.\n",
        "\n",
        "Start over, now compacting the amphipod's hard drive using this new method instead. What is the resulting filesystem checksum?\n",
        "```"
      ],
      "metadata": {
        "id": "OFriYcm7FXFm"
      }
    },
    {
      "cell_type": "code",
      "source": [
        "filename = \"input.txt\"\n",
        "data = open(filename).read().strip().split(\"\\n\")\n",
        "\n",
        "sequence = data[0]\n",
        "file_configurations = []\n",
        "arrangement = []\n",
        "current_file = 0\n",
        "for index, character in enumerate(sequence):\n",
        "    block_length = int(character)\n",
        "    if index % 2 == 0:\n",
        "        arrangement.extend([str(current_file)] * block_length)\n",
        "        current_file += 1\n",
        "    else:\n",
        "        arrangement.extend([\".\"] * block_length)\n",
        "\n",
        "file_locations = {}\n",
        "current_file_id = None\n",
        "current_count = 0\n",
        "for index, file_marker in enumerate(arrangement):\n",
        "    if file_marker != \".\":\n",
        "        file_id = int(file_marker)\n",
        "        if file_id != current_file_id:\n",
        "            current_file_id = file_id\n",
        "            current_count = 1\n",
        "            file_locations[file_id] = [index, 1]\n",
        "        else:\n",
        "            current_count += 1\n",
        "            file_locations[file_id][1] = current_count\n",
        "\n",
        "maximum_file_identifier = max(file_locations.keys())\n",
        "\n",
        "\n",
        "def locate_empty_span(arrangement, file_start, file_length):\n",
        "    if file_start == 0:\n",
        "        return None\n",
        "    best_span_start = None\n",
        "    current_span_start = None\n",
        "    current_span_count = 0\n",
        "    for i in range(file_start):\n",
        "        if arrangement[i] == \".\":\n",
        "            if current_span_start is None:\n",
        "                current_span_start = i\n",
        "                current_span_count = 1\n",
        "            else:\n",
        "                current_span_count += 1\n",
        "        else:\n",
        "            if current_span_count >= file_length:\n",
        "                return current_span_start\n",
        "            current_span_start = None\n",
        "            current_span_count = 0\n",
        "    if current_span_start is not None and current_span_count >= file_length:\n",
        "        return current_span_start\n",
        "    return None\n",
        "\n",
        "\n",
        "for file_id in sorted(file_locations.keys(), reverse=True):\n",
        "    start_position, length = file_locations[file_id]\n",
        "    empty_span_start = locate_empty_span(arrangement, start_position, length)\n",
        "    if empty_span_start is not None:\n",
        "        for i in range(start_position, start_position + length):\n",
        "            arrangement[i] = \".\"\n",
        "        for i in range(empty_span_start, empty_span_start + length):\n",
        "            arrangement[i] = str(file_id)\n",
        "        file_locations[file_id][0] = empty_span_start\n",
        "\n",
        "total_score = 0\n",
        "for index, file_marker in enumerate(arrangement):\n",
        "    if file_marker != \".\":\n",
        "        total_score += index * int(file_marker)\n",
        "\n",
        "print(total_score)"
      ],
      "metadata": {
        "colab": {
          "base_uri": "https://localhost:8080/"
        },
        "id": "K86C1IWM9t98",
        "outputId": "f16747c5-5c8e-4cbc-b860-90fec26b39c5"
      },
      "execution_count": 5,
      "outputs": [
        {
          "output_type": "stream",
          "name": "stdout",
          "text": [
            "6227018762750\n"
          ]
        }
      ]
    }
  ]
}