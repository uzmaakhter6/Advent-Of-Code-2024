{
  "nbformat": 4,
  "nbformat_minor": 0,
  "metadata": {
    "colab": {
      "provenance": []
    },
    "kernelspec": {
      "name": "python3",
      "display_name": "Python 3"
    },
    "language_info": {
      "name": "python"
    }
  },
  "cells": [
    {
      "cell_type": "markdown",
      "source": [
        "```\n",
        "--- Day 23: LAN Party ---\n",
        "As The Historians wander around a secure area at Easter Bunny HQ, you come across posters for a LAN party scheduled for today! Maybe you can find it; you connect to a nearby datalink port and download a map of the local network (your puzzle input).\n",
        "\n",
        "The network map provides a list of every connection between two computers. For example:\n",
        "\n",
        "kh-tc\n",
        "qp-kh\n",
        "de-cg\n",
        "ka-co\n",
        "yn-aq\n",
        "qp-ub\n",
        "cg-tb\n",
        "vc-aq\n",
        "tb-ka\n",
        "wh-tc\n",
        "yn-cg\n",
        "kh-ub\n",
        "ta-co\n",
        "de-co\n",
        "tc-td\n",
        "tb-wq\n",
        "wh-td\n",
        "ta-ka\n",
        "td-qp\n",
        "aq-cg\n",
        "wq-ub\n",
        "ub-vc\n",
        "de-ta\n",
        "wq-aq\n",
        "wq-vc\n",
        "wh-yn\n",
        "ka-de\n",
        "kh-ta\n",
        "co-tc\n",
        "wh-qp\n",
        "tb-vc\n",
        "td-yn\n",
        "Each line of text in the network map represents a single connection; the line kh-tc represents a connection between the computer named kh and the computer named tc. Connections aren't directional; tc-kh would mean exactly the same thing.\n",
        "\n",
        "LAN parties typically involve multiplayer games, so maybe you can locate it by finding groups of connected computers. Start by looking for sets of three computers where each computer in the set is connected to the other two computers.\n",
        "\n",
        "In this example, there are 12 such sets of three inter-connected computers:\n",
        "\n",
        "aq,cg,yn\n",
        "aq,vc,wq\n",
        "co,de,ka\n",
        "co,de,ta\n",
        "co,ka,ta\n",
        "de,ka,ta\n",
        "kh,qp,ub\n",
        "qp,td,wh\n",
        "tb,vc,wq\n",
        "tc,td,wh\n",
        "td,wh,yn\n",
        "ub,vc,wq\n",
        "If the Chief Historian is here, and he's at the LAN party, it would be best to know that right away. You're pretty sure his computer's name starts with t, so consider only sets of three computers where at least one computer's name starts with t. That narrows the list down to 7 sets of three inter-connected computers:\n",
        "\n",
        "co,de,ta\n",
        "co,ka,ta\n",
        "de,ka,ta\n",
        "qp,td,wh\n",
        "tb,vc,wq\n",
        "tc,td,wh\n",
        "td,wh,yn\n",
        "Find all the sets of three inter-connected computers. How many contain at least one computer with a name that starts with t?\n",
        "```"
      ],
      "metadata": {
        "id": "8Co8-uaj6L4I"
      }
    },
    {
      "cell_type": "code",
      "execution_count": 1,
      "metadata": {
        "colab": {
          "base_uri": "https://localhost:8080/"
        },
        "id": "dMa8hU112BPd",
        "outputId": "68ab9c90-3359-4912-a90a-3d9a1f4b656a"
      },
      "outputs": [
        {
          "output_type": "stream",
          "name": "stdout",
          "text": [
            "Total triangles with at least one computer starting with 't': 1302\n"
          ]
        }
      ],
      "source": [
        "# Read the input from the file\n",
        "with open(\"input.txt\", \"r\") as file:\n",
        "    connections = [line.strip() for line in file.readlines()]\n",
        "\n",
        "# Parse connections into a graph representation\n",
        "from collections import defaultdict\n",
        "\n",
        "graph = defaultdict(set)\n",
        "for connection in connections:\n",
        "    a, b = connection.split('-')\n",
        "    graph[a].add(b)\n",
        "    graph[b].add(a)\n",
        "\n",
        "# Find all sets of three inter-connected computers\n",
        "triangles = set()\n",
        "for node in graph:\n",
        "    for neighbor1 in graph[node]:\n",
        "        for neighbor2 in graph[node]:\n",
        "            if neighbor1 != neighbor2 and neighbor2 in graph[neighbor1]:\n",
        "                triangle = tuple(sorted([node, neighbor1, neighbor2]))\n",
        "                triangles.add(triangle)\n",
        "\n",
        "# Filter triangles where at least one name starts with \"t\"\n",
        "filtered_triangles = [t for t in triangles if any(name.startswith('t') for name in t)]\n",
        "\n",
        "# Output the result\n",
        "print(f\"Total triangles with at least one computer starting with 't': {len(filtered_triangles)}\")\n"
      ]
    },
    {
      "cell_type": "markdown",
      "source": [
        "```\n",
        "--- Part Two ---\n",
        "There are still way too many results to go through them all. You'll have to find the LAN party another way and go there yourself.\n",
        "\n",
        "Since it doesn't seem like any employees are around, you figure they must all be at the LAN party. If that's true, the LAN party will be the largest set of computers that are all connected to each other. That is, for each computer at the LAN party, that computer will have a connection to every other computer at the LAN party.\n",
        "\n",
        "In the above example, the largest set of computers that are all connected to each other is made up of co, de, ka, and ta. Each computer in this set has a connection to every other computer in the set:\n",
        "\n",
        "ka-co\n",
        "ta-co\n",
        "de-co\n",
        "ta-ka\n",
        "de-ta\n",
        "ka-de\n",
        "The LAN party posters say that the password to get into the LAN party is the name of every computer at the LAN party, sorted alphabetically, then joined together with commas. (The people running the LAN party are clearly a bunch of nerds.) In this example, the password would be co,de,ka,ta.\n",
        "\n",
        "What is the password to get into the LAN party?\n",
        "```"
      ],
      "metadata": {
        "id": "hqSYVch96Tdk"
      }
    },
    {
      "cell_type": "code",
      "source": [
        "from collections import defaultdict\n",
        "\n",
        "def read_input(file_name):\n",
        "    \"\"\"Reads input from the specified file.\"\"\"\n",
        "    with open(file_name, 'r') as file:\n",
        "        connections = [line.strip().split('-') for line in file]\n",
        "    return connections\n",
        "\n",
        "def bron_kerbosch(graph, r, p, x, cliques):\n",
        "    \"\"\"Bron-Kerbosch algorithm to find maximal cliques.\"\"\"\n",
        "    if not p and not x:\n",
        "        cliques.append(r)\n",
        "        return\n",
        "    for v in list(p):\n",
        "        bron_kerbosch(\n",
        "            graph,\n",
        "            r.union({v}),\n",
        "            p.intersection(graph[v]),\n",
        "            x.intersection(graph[v]),\n",
        "            cliques\n",
        "        )\n",
        "        p.remove(v)\n",
        "        x.add(v)\n",
        "\n",
        "def find_maximal_cliques(graph):\n",
        "    \"\"\"Finds all maximal cliques in the graph.\"\"\"\n",
        "    cliques = []\n",
        "    bron_kerbosch(graph, set(), set(graph.keys()), set(), cliques)\n",
        "    return cliques\n",
        "\n",
        "def find_largest_clique(cliques):\n",
        "    \"\"\"Finds the largest clique among all cliques.\"\"\"\n",
        "    return max(cliques, key=len)\n",
        "\n",
        "def generate_password(clique):\n",
        "    \"\"\"Generates the password from the largest clique.\"\"\"\n",
        "    return \",\".join(sorted(clique))\n",
        "\n",
        "def main():\n",
        "    # Input file name\n",
        "    input_file = \"input.txt\"\n",
        "\n",
        "    # Read input connections\n",
        "    connections = read_input(input_file)\n",
        "\n",
        "    # Build the adjacency list\n",
        "    graph = defaultdict(set)\n",
        "    for a, b in connections:\n",
        "        graph[a].add(b)\n",
        "        graph[b].add(a)\n",
        "\n",
        "    # Find all maximal cliques\n",
        "    cliques = find_maximal_cliques(graph)\n",
        "\n",
        "    # Find the largest clique\n",
        "    largest_clique = find_largest_clique(cliques)\n",
        "\n",
        "    # Generate the password\n",
        "    password = generate_password(largest_clique)\n",
        "    print(f\"Password to the LAN party: {password}\")\n",
        "\n",
        "if __name__ == \"__main__\":\n",
        "    main()"
      ],
      "metadata": {
        "colab": {
          "base_uri": "https://localhost:8080/"
        },
        "id": "O5AwgyYU5Ird",
        "outputId": "d1a4c65f-2a69-44df-a7fb-94c14ef3a043"
      },
      "execution_count": 4,
      "outputs": [
        {
          "output_type": "stream",
          "name": "stdout",
          "text": [
            "Password to the LAN party: cb,df,fo,ho,kk,nw,ox,pq,rt,sf,tq,wi,xz\n"
          ]
        }
      ]
    }
  ]
}