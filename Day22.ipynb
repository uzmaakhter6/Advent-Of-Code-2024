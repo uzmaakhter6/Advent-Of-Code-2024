{
  "nbformat": 4,
  "nbformat_minor": 0,
  "metadata": {
    "colab": {
      "provenance": [],
      "authorship_tag": "ABX9TyOZPF7K4cZRPDazN1O5xS8a",
      "include_colab_link": true
    },
    "kernelspec": {
      "name": "python3",
      "display_name": "Python 3"
    },
    "language_info": {
      "name": "python"
    }
  },
  "cells": [
    {
      "cell_type": "markdown",
      "metadata": {
        "id": "view-in-github",
        "colab_type": "text"
      },
      "source": [
        "<a href=\"https://colab.research.google.com/github/uzmaakhter6/Advent-Of-Code-2024/blob/main/Day22.ipynb\" target=\"_parent\"><img src=\"https://colab.research.google.com/assets/colab-badge.svg\" alt=\"Open In Colab\"/></a>"
      ]
    },
    {
      "cell_type": "markdown",
      "source": [
        "--- Day 22: Monkey Market ---\n",
        "As you're all teleported deep into the jungle, a monkey steals The Historians' device! You'll need get it back while The Historians are looking for the Chief.\n",
        "\n",
        "The monkey that stole the device seems willing to trade it, but only in exchange for an absurd number of bananas. Your only option is to buy bananas on the Monkey Exchange Market.\n",
        "\n",
        "You aren't sure how the Monkey Exchange Market works, but one of The Historians senses trouble and comes over to help. Apparently, they've been studying these monkeys for a while and have deciphered their secrets.\n",
        "\n",
        "Today, the Market is full of monkeys buying good hiding spots. Fortunately, because of the time you recently spent in this jungle, you know lots of good hiding spots you can sell! If you sell enough hiding spots, you should be able to get enough bananas to buy the device back.\n",
        "\n",
        "On the Market, the buyers seem to use random prices, but their prices are actually only pseudorandom! If you know the secret of how they pick their prices, you can wait for the perfect time to sell.\n",
        "\n",
        "The part about secrets is literal, the Historian explains. Each buyer produces a pseudorandom sequence of secret numbers where each secret is derived from the previous.\n",
        "\n",
        "In particular, each buyer's secret number evolves into the next secret number in the sequence via the following process:\n",
        "\n",
        "Calculate the result of multiplying the secret number by 64. Then, mix this result into the secret number. Finally, prune the secret number.\n",
        "Calculate the result of dividing the secret number by 32. Round the result down to the nearest integer. Then, mix this result into the secret number. Finally, prune the secret number.\n",
        "Calculate the result of multiplying the secret number by 2048. Then, mix this result into the secret number. Finally, prune the secret number.\n",
        "Each step of the above process involves mixing and pruning:\n",
        "\n",
        "To mix a value into the secret number, calculate the bitwise XOR of the given value and the secret number. Then, the secret number becomes the result of that operation. (If the secret number is 42 and you were to mix 15 into the secret number, the secret number would become 37.)\n",
        "To prune the secret number, calculate the value of the secret number modulo 16777216. Then, the secret number becomes the result of that operation. (If the secret number is 100000000 and you were to prune the secret number, the secret number would become 16113920.)\n",
        "After this process completes, the buyer is left with the next secret number in the sequence. The buyer can repeat this process as many times as necessary to produce more secret numbers.\n",
        "\n",
        "So, if a buyer had a secret number of 123, that buyer's next ten secret numbers would be:\n",
        "\n",
        "15887950\n",
        "16495136\n",
        "527345\n",
        "704524\n",
        "1553684\n",
        "12683156\n",
        "11100544\n",
        "12249484\n",
        "7753432\n",
        "5908254\n",
        "Each buyer uses their own secret number when choosing their price, so it's important to be able to predict the sequence of secret numbers for each buyer. Fortunately, the Historian's research has uncovered the initial secret number of each buyer (your puzzle input). For example:\n",
        "\n",
        "1\n",
        "10\n",
        "100\n",
        "2024\n",
        "This list describes the initial secret number of four different secret-hiding-spot-buyers on the Monkey Exchange Market. If you can simulate secret numbers from each buyer, you'll be able to predict all of their future prices.\n",
        "\n",
        "In a single day, buyers each have time to generate 2000 new secret numbers. In this example, for each buyer, their initial secret number and the 2000th new secret number they would generate are:\n",
        "\n",
        "1: 8685429\n",
        "10: 4700978\n",
        "100: 15273692\n",
        "2024: 8667524\n",
        "Adding up the 2000th new secret number for each buyer produces 37327623.\n",
        "\n",
        "For each buyer, simulate the creation of 2000 new secret numbers. What is the sum of the 2000th secret number generated by each buyer?\n",
        "\n",
        "[ ]\n"
      ],
      "metadata": {
        "id": "L_q0HE3t3lN4"
      }
    },
    {
      "cell_type": "markdown",
      "source": [],
      "metadata": {
        "id": "D5x5j5lK3hoD"
      }
    },
    {
      "cell_type": "code",
      "source": [
        "# Function to calculate the next secret number in the sequence\n",
        "def generate_next_secret(secret_number):\n",
        "    # Step 1: Multiply by 64, mix, prune\n",
        "    secret_number ^= (secret_number * 64) % 16777216\n",
        "    secret_number %= 16777216\n",
        "\n",
        "    # Step 2: Divide by 32 (integer division), mix, prune\n",
        "    secret_number ^= (secret_number // 32) % 16777216\n",
        "    secret_number %= 16777216\n",
        "\n",
        "    # Step 3: Multiply by 2048, mix, prune\n",
        "    secret_number ^= (secret_number * 2048) % 16777216\n",
        "    secret_number %= 16777216\n",
        "\n",
        "    return secret_number\n",
        "\n",
        "# Function to simulate the sequence and get the 2000th secret number\n",
        "def simulate_buyer(initial_secret):\n",
        "    secret = initial_secret\n",
        "    for _ in range(2000):\n",
        "        secret = generate_next_secret(secret)\n",
        "    return secret\n",
        "\n",
        "# Main function to read input and calculate the result\n",
        "def main():\n",
        "    # Read input from file\n",
        "    with open(\"input.txt\", \"r\") as file:\n",
        "        initial_secrets = [int(line.strip()) for line in file.readlines()]\n",
        "\n",
        "    # Calculate the 2000th secret number for each buyer\n",
        "    results = [simulate_buyer(secret) for secret in initial_secrets]\n",
        "\n",
        "    # Calculate the total sum of the 2000th secret numbers\n",
        "    total_sum = sum(results)\n",
        "\n",
        "    # Print the result\n",
        "    print(\"Sum of the 2000th secret numbers:\", total_sum)\n",
        "\n",
        "# Run the main function\n",
        "if __name__ == \"__main__\":\n",
        "    main()\n"
      ],
      "metadata": {
        "colab": {
          "base_uri": "https://localhost:8080/"
        },
        "id": "rXZIc93X3rGO",
        "outputId": "f1b751e9-cdf7-470a-ddef-5093678be360"
      },
      "execution_count": 3,
      "outputs": [
        {
          "output_type": "stream",
          "name": "stdout",
          "text": [
            "Sum of the 2000th secret numbers: 14476723788\n"
          ]
        }
      ]
    },
    {
      "cell_type": "markdown",
      "source": [
        "--- Part Two ---\n",
        "Of course, the secret numbers aren't the prices each buyer is offering! That would be ridiculous. Instead, the prices the buyer offers are just the ones digit of each of their secret numbers.\n",
        "\n",
        "So, if a buyer starts with a secret number of 123, that buyer's first ten prices would be:\n",
        "\n",
        "3 (from 123)\n",
        "0 (from 15887950)\n",
        "6 (from 16495136)\n",
        "5 (etc.)\n",
        "4\n",
        "4\n",
        "6\n",
        "4\n",
        "4\n",
        "2\n",
        "This price is the number of bananas that buyer is offering in exchange for your information about a new hiding spot. However, you still don't speak monkey, so you can't negotiate with the buyers directly. The Historian speaks a little, but not enough to negotiate; instead, he can ask another monkey to negotiate on your behalf.\n",
        "\n",
        "Unfortunately, the monkey only knows how to decide when to sell by looking at the changes in price. Specifically, the monkey will only look for a specific sequence of four consecutive changes in price, then immediately sell when it sees that sequence.\n",
        "\n",
        "So, if a buyer starts with a secret number of 123, that buyer's first ten secret numbers, prices, and the associated changes would be:\n",
        "\n",
        "     123: 3\n",
        "15887950: 0 (-3)\n",
        "16495136: 6 (6)\n",
        "  527345: 5 (-1)\n",
        "  704524: 4 (-1)\n",
        " 1553684: 4 (0)\n",
        "12683156: 6 (2)\n",
        "11100544: 4 (-2)\n",
        "12249484: 4 (0)\n",
        " 7753432: 2 (-2)\n",
        "Note that the first price has no associated change because there was no previous price to compare it with.\n",
        "\n",
        "In this short example, within just these first few prices, the highest price will be 6, so it would be nice to give the monkey instructions that would make it sell at that time. The first 6 occurs after only two changes, so there's no way to instruct the monkey to sell then, but the second 6 occurs after the changes -1,-1,0,2. So, if you gave the monkey that sequence of changes, it would wait until the first time it sees that sequence and then immediately sell your hiding spot information at the current price, winning you 6 bananas.\n",
        "\n",
        "Each buyer only wants to buy one hiding spot, so after the hiding spot is sold, the monkey will move on to the next buyer. If the monkey never hears that sequence of price changes from a buyer, the monkey will never sell, and will instead just move on to the next buyer.\n",
        "\n",
        "Worse, you can only give the monkey a single sequence of four price changes to look for. You can't change the sequence between buyers.\n",
        "\n",
        "You're going to need as many bananas as possible, so you'll need to determine which sequence of four price changes will cause the monkey to get you the most bananas overall. Each buyer is going to generate 2000 secret numbers after their initial secret number, so, for each buyer, you'll have 2000 price changes in which your sequence can occur.\n",
        "\n",
        "Suppose the initial secret number of each buyer is:\n",
        "\n",
        "1\n",
        "2\n",
        "3\n",
        "2024\n",
        "There are many sequences of four price changes you could tell the monkey, but for these four buyers, the sequence that will get you the most bananas is -2,1,-1,3. Using that sequence, the monkey will make the following sales:\n",
        "\n",
        "For the buyer with an initial secret number of 1, changes -2,1,-1,3 first occur when the price is 7.\n",
        "For the buyer with initial secret 2, changes -2,1,-1,3 first occur when the price is 7.\n",
        "For the buyer with initial secret 3, the change sequence -2,1,-1,3 does not occur in the first 2000 changes.\n",
        "For the buyer starting with 2024, changes -2,1,-1,3 first occur when the price is 9.\n",
        "So, by asking the monkey to sell the first time each buyer's prices go down 2, then up 1, then down 1, then up 3, you would get 23 (7 + 7 + 9) bananas!\n",
        "\n",
        "Figure out the best sequence to tell the monkey so that by looking for that same sequence of changes in every buyer's future prices, you get the most bananas in total. What is the most bananas you can get?\n",
        "\n",
        "[ ]\n"
      ],
      "metadata": {
        "id": "TVUnEIEH4VcC"
      }
    },
    {
      "cell_type": "code",
      "source": [
        "def generate_next_secret(secret_number):\n",
        "    secret_number ^= (secret_number * 64) % 16777216\n",
        "    secret_number %= 16777216\n",
        "    secret_number ^= (secret_number // 32) % 16777216\n",
        "    secret_number %= 16777216\n",
        "    secret_number ^= (secret_number * 2048) % 16777216\n",
        "    secret_number %= 16777216\n",
        "    return secret_number\n",
        "\n",
        "def get_price_sequence(initial_secret):\n",
        "    # Generate all prices at once\n",
        "    prices = []\n",
        "    secret = initial_secret\n",
        "    for _ in range(2001):  # We need 2001 to get 2000 changes\n",
        "        prices.append(secret % 10)\n",
        "        secret = generate_next_secret(secret)\n",
        "    return prices\n",
        "\n",
        "def find_sequences(prices):\n",
        "    # Create a dictionary to store where each sequence appears and its corresponding price\n",
        "    sequences = {}\n",
        "    changes = []\n",
        "\n",
        "    # Calculate all changes\n",
        "    for i in range(1, len(prices)):\n",
        "        changes.append(prices[i] - prices[i-1])\n",
        "\n",
        "    # For each position, record the 4-change sequence that starts there\n",
        "    for i in range(len(changes) - 3):\n",
        "        seq = tuple(changes[i:i+4])  # Convert to tuple so it can be used as dict key\n",
        "        if seq not in sequences:  # Only keep the first occurrence\n",
        "            sequences[seq] = prices[i+4]\n",
        "\n",
        "    return sequences\n",
        "\n",
        "def main():\n",
        "    with open(\"input.txt\", \"r\") as file:\n",
        "        initial_secrets = [int(line.strip()) for line in file.readlines()]\n",
        "\n",
        "    # Pre-calculate all sequences for each buyer\n",
        "    buyer_sequences = []\n",
        "    for secret in initial_secrets:\n",
        "        prices = get_price_sequence(secret)\n",
        "        sequences = find_sequences(prices)\n",
        "        buyer_sequences.append(sequences)\n",
        "\n",
        "    # Find the sequence that appears in most buyers with highest total\n",
        "    best_total = 0\n",
        "    best_sequence = None\n",
        "\n",
        "    # Get all unique sequences that appear in any buyer's data\n",
        "    all_sequences = set()\n",
        "    for sequences in buyer_sequences:\n",
        "        all_sequences.update(sequences.keys())\n",
        "\n",
        "    # Check each sequence that actually appears in the data\n",
        "    for seq in all_sequences:\n",
        "        total = sum(sequences.get(seq, 0) for sequences in buyer_sequences)\n",
        "        if total > best_total:\n",
        "            best_total = total\n",
        "            best_sequence = seq\n",
        "\n",
        "    print(f\"Best sequence: {list(best_sequence)}\")\n",
        "    print(f\"Maximum bananas: {best_total}\")\n",
        "\n",
        "if __name__ == \"__main__\":\n",
        "    main()"
      ],
      "metadata": {
        "colab": {
          "base_uri": "https://localhost:8080/"
        },
        "id": "w5sJcfxw4YI1",
        "outputId": "0c2758a1-3dd0-4ea3-dd7c-b907e35d6e0d"
      },
      "execution_count": 4,
      "outputs": [
        {
          "output_type": "stream",
          "name": "stdout",
          "text": [
            "Best sequence: [0, 0, 0, 1]\n",
            "Maximum bananas: 1630\n"
          ]
        }
      ]
    }
  ]
}